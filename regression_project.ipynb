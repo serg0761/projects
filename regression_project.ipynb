{
 "cells": [
  {
   "cell_type": "code",
   "execution_count": 1,
   "metadata": {},
   "outputs": [],
   "source": [
    "import pandas as pd\n",
    "import numpy as np\n",
    "import matplotlib.pyplot as plt"
   ]
  },
  {
   "cell_type": "code",
   "execution_count": 2,
   "metadata": {},
   "outputs": [],
   "source": [
    "from sklearn.linear_model import LinearRegression\n",
    "from sklearn.metrics import r2_score as r2\n",
    "from sklearn.metrics import mean_squared_error as mse"
   ]
  },
  {
   "cell_type": "code",
   "execution_count": 3,
   "metadata": {},
   "outputs": [],
   "source": [
    "import warnings\n",
    "warnings.filterwarnings('ignore')"
   ]
  },
  {
   "cell_type": "code",
   "execution_count": 4,
   "metadata": {},
   "outputs": [],
   "source": [
    "from sklearn.model_selection import train_test_split"
   ]
  },
  {
   "cell_type": "code",
   "execution_count": 5,
   "metadata": {},
   "outputs": [
    {
     "data": {
      "text/html": [
       "<div>\n",
       "<style scoped>\n",
       "    .dataframe tbody tr th:only-of-type {\n",
       "        vertical-align: middle;\n",
       "    }\n",
       "\n",
       "    .dataframe tbody tr th {\n",
       "        vertical-align: top;\n",
       "    }\n",
       "\n",
       "    .dataframe thead th {\n",
       "        text-align: right;\n",
       "    }\n",
       "</style>\n",
       "<table border=\"1\" class=\"dataframe\">\n",
       "  <thead>\n",
       "    <tr style=\"text-align: right;\">\n",
       "      <th></th>\n",
       "      <th>Id</th>\n",
       "      <th>DistrictId</th>\n",
       "      <th>Rooms</th>\n",
       "      <th>Square</th>\n",
       "      <th>LifeSquare</th>\n",
       "      <th>KitchenSquare</th>\n",
       "      <th>Floor</th>\n",
       "      <th>HouseFloor</th>\n",
       "      <th>HouseYear</th>\n",
       "      <th>Ecology_1</th>\n",
       "      <th>Ecology_2</th>\n",
       "      <th>Ecology_3</th>\n",
       "      <th>Social_1</th>\n",
       "      <th>Social_2</th>\n",
       "      <th>Social_3</th>\n",
       "      <th>Healthcare_1</th>\n",
       "      <th>Helthcare_2</th>\n",
       "      <th>Shops_1</th>\n",
       "      <th>Shops_2</th>\n",
       "      <th>Price</th>\n",
       "    </tr>\n",
       "  </thead>\n",
       "  <tbody>\n",
       "    <tr>\n",
       "      <th>0</th>\n",
       "      <td>14038</td>\n",
       "      <td>35</td>\n",
       "      <td>2.0</td>\n",
       "      <td>47.981561</td>\n",
       "      <td>29.442751</td>\n",
       "      <td>6.0</td>\n",
       "      <td>7</td>\n",
       "      <td>9.0</td>\n",
       "      <td>1969</td>\n",
       "      <td>0.089040</td>\n",
       "      <td>B</td>\n",
       "      <td>B</td>\n",
       "      <td>33</td>\n",
       "      <td>7976</td>\n",
       "      <td>5</td>\n",
       "      <td>NaN</td>\n",
       "      <td>0</td>\n",
       "      <td>11</td>\n",
       "      <td>B</td>\n",
       "      <td>184966.930730</td>\n",
       "    </tr>\n",
       "    <tr>\n",
       "      <th>1</th>\n",
       "      <td>15053</td>\n",
       "      <td>41</td>\n",
       "      <td>3.0</td>\n",
       "      <td>65.683640</td>\n",
       "      <td>40.049543</td>\n",
       "      <td>8.0</td>\n",
       "      <td>7</td>\n",
       "      <td>9.0</td>\n",
       "      <td>1978</td>\n",
       "      <td>0.000070</td>\n",
       "      <td>B</td>\n",
       "      <td>B</td>\n",
       "      <td>46</td>\n",
       "      <td>10309</td>\n",
       "      <td>1</td>\n",
       "      <td>240.0</td>\n",
       "      <td>1</td>\n",
       "      <td>16</td>\n",
       "      <td>B</td>\n",
       "      <td>300009.450063</td>\n",
       "    </tr>\n",
       "    <tr>\n",
       "      <th>2</th>\n",
       "      <td>4765</td>\n",
       "      <td>53</td>\n",
       "      <td>2.0</td>\n",
       "      <td>44.947953</td>\n",
       "      <td>29.197612</td>\n",
       "      <td>0.0</td>\n",
       "      <td>8</td>\n",
       "      <td>12.0</td>\n",
       "      <td>1968</td>\n",
       "      <td>0.049637</td>\n",
       "      <td>B</td>\n",
       "      <td>B</td>\n",
       "      <td>34</td>\n",
       "      <td>7759</td>\n",
       "      <td>0</td>\n",
       "      <td>229.0</td>\n",
       "      <td>1</td>\n",
       "      <td>3</td>\n",
       "      <td>B</td>\n",
       "      <td>220925.908524</td>\n",
       "    </tr>\n",
       "    <tr>\n",
       "      <th>3</th>\n",
       "      <td>5809</td>\n",
       "      <td>58</td>\n",
       "      <td>2.0</td>\n",
       "      <td>53.352981</td>\n",
       "      <td>52.731512</td>\n",
       "      <td>9.0</td>\n",
       "      <td>8</td>\n",
       "      <td>17.0</td>\n",
       "      <td>1977</td>\n",
       "      <td>0.437885</td>\n",
       "      <td>B</td>\n",
       "      <td>B</td>\n",
       "      <td>23</td>\n",
       "      <td>5735</td>\n",
       "      <td>3</td>\n",
       "      <td>1084.0</td>\n",
       "      <td>0</td>\n",
       "      <td>5</td>\n",
       "      <td>B</td>\n",
       "      <td>175616.227217</td>\n",
       "    </tr>\n",
       "    <tr>\n",
       "      <th>4</th>\n",
       "      <td>10783</td>\n",
       "      <td>99</td>\n",
       "      <td>1.0</td>\n",
       "      <td>39.649192</td>\n",
       "      <td>23.776169</td>\n",
       "      <td>7.0</td>\n",
       "      <td>11</td>\n",
       "      <td>12.0</td>\n",
       "      <td>1976</td>\n",
       "      <td>0.012339</td>\n",
       "      <td>B</td>\n",
       "      <td>B</td>\n",
       "      <td>35</td>\n",
       "      <td>5776</td>\n",
       "      <td>1</td>\n",
       "      <td>2078.0</td>\n",
       "      <td>2</td>\n",
       "      <td>4</td>\n",
       "      <td>B</td>\n",
       "      <td>150226.531644</td>\n",
       "    </tr>\n",
       "  </tbody>\n",
       "</table>\n",
       "</div>"
      ],
      "text/plain": [
       "      Id  DistrictId  Rooms     Square  LifeSquare  KitchenSquare  Floor  \\\n",
       "0  14038          35    2.0  47.981561   29.442751            6.0      7   \n",
       "1  15053          41    3.0  65.683640   40.049543            8.0      7   \n",
       "2   4765          53    2.0  44.947953   29.197612            0.0      8   \n",
       "3   5809          58    2.0  53.352981   52.731512            9.0      8   \n",
       "4  10783          99    1.0  39.649192   23.776169            7.0     11   \n",
       "\n",
       "   HouseFloor  HouseYear  Ecology_1 Ecology_2 Ecology_3  Social_1  Social_2  \\\n",
       "0         9.0       1969   0.089040         B         B        33      7976   \n",
       "1         9.0       1978   0.000070         B         B        46     10309   \n",
       "2        12.0       1968   0.049637         B         B        34      7759   \n",
       "3        17.0       1977   0.437885         B         B        23      5735   \n",
       "4        12.0       1976   0.012339         B         B        35      5776   \n",
       "\n",
       "   Social_3  Healthcare_1  Helthcare_2  Shops_1 Shops_2          Price  \n",
       "0         5           NaN            0       11       B  184966.930730  \n",
       "1         1         240.0            1       16       B  300009.450063  \n",
       "2         0         229.0            1        3       B  220925.908524  \n",
       "3         3        1084.0            0        5       B  175616.227217  \n",
       "4         1        2078.0            2        4       B  150226.531644  "
      ]
     },
     "execution_count": 5,
     "metadata": {},
     "output_type": "execute_result"
    }
   ],
   "source": [
    "data = pd.read_csv('train.csv')\n",
    "data.head()"
   ]
  },
  {
   "cell_type": "code",
   "execution_count": 6,
   "metadata": {},
   "outputs": [
    {
     "data": {
      "text/plain": [
       "(10000, 20)"
      ]
     },
     "execution_count": 6,
     "metadata": {},
     "output_type": "execute_result"
    }
   ],
   "source": [
    "data.shape"
   ]
  },
  {
   "cell_type": "markdown",
   "metadata": {},
   "source": [
    "Чистим данные"
   ]
  },
  {
   "cell_type": "code",
   "execution_count": 7,
   "metadata": {},
   "outputs": [],
   "source": [
    "def drop_data(data):\n",
    "    data = data.loc[data['Rooms'] < 10, :]\n",
    "    data = data.loc[data['Price'].between(30000, 600000), :]\n",
    "    return data\n",
    "\n",
    "\n",
    "def clean_data(data):\n",
    "    data.loc[(data['Square'] < 15) & (data['LifeSquare'] > 15), 'Square'] = data['LifeSquare']\n",
    "    data.loc[(data.Square < 15) & (data.LifeSquare < 15) & (data.Rooms <= 1), 'Square'] =\\\n",
    "    data.loc[data.Rooms <= 1, 'Square'].mean()\n",
    "    data.loc[(data.Square < 15) & (data.LifeSquare < 15) & (data.Rooms == 3), 'Square'] =\\\n",
    "    data.loc[data.Rooms == 1, 'Square'].mean()\n",
    "    data.loc[(data['Square'] > 15) & (data['LifeSquare'] <15), 'LifeSquare'] = data['Square']\n",
    "    data.loc[data['Square'] < data['LifeSquare'], 'LifeSquare'] = data['Square']\n",
    "    data['LifeSquare'] = data['LifeSquare'].fillna(data['Square'])\n",
    "    data.loc[data['Floor'] > data['HouseFloor'],'Floor'] = data['HouseFloor']\n",
    "    data.loc[data['HouseFloor'] == 0, 'HouseFloor'] = int(data.loc[:, 'HouseFloor'].mean())\n",
    "    data.loc[data['Floor'] == 0,'Floor'] = int(data.loc[:, 'Floor'].mean())\n",
    "    return data\n",
    "    "
   ]
  },
  {
   "cell_type": "code",
   "execution_count": 8,
   "metadata": {},
   "outputs": [
    {
     "name": "stdout",
     "output_type": "stream",
     "text": [
      "<class 'pandas.core.frame.DataFrame'>\n",
      "Int64Index: 9977 entries, 0 to 9999\n",
      "Data columns (total 20 columns):\n",
      "Id               9977 non-null int64\n",
      "DistrictId       9977 non-null int64\n",
      "Rooms            9977 non-null float64\n",
      "Square           9977 non-null float64\n",
      "LifeSquare       9977 non-null float64\n",
      "KitchenSquare    9977 non-null float64\n",
      "Floor            9977 non-null float64\n",
      "HouseFloor       9977 non-null float64\n",
      "HouseYear        9977 non-null int64\n",
      "Ecology_1        9977 non-null float64\n",
      "Ecology_2        9977 non-null object\n",
      "Ecology_3        9977 non-null object\n",
      "Social_1         9977 non-null int64\n",
      "Social_2         9977 non-null int64\n",
      "Social_3         9977 non-null int64\n",
      "Healthcare_1     5185 non-null float64\n",
      "Helthcare_2      9977 non-null int64\n",
      "Shops_1          9977 non-null int64\n",
      "Shops_2          9977 non-null object\n",
      "Price            9977 non-null float64\n",
      "dtypes: float64(9), int64(8), object(3)\n",
      "memory usage: 1.9+ MB\n"
     ]
    }
   ],
   "source": [
    "data = drop_data(data)\n",
    "data = clean_data(data)\n",
    "data.info()"
   ]
  },
  {
   "cell_type": "code",
   "execution_count": 9,
   "metadata": {},
   "outputs": [],
   "source": [
    "data = data.drop('Healthcare_1', axis=1)"
   ]
  },
  {
   "cell_type": "markdown",
   "metadata": {},
   "source": [
    "\"Оцифруем\" категории"
   ]
  },
  {
   "cell_type": "code",
   "execution_count": 10,
   "metadata": {},
   "outputs": [],
   "source": [
    "data = pd.get_dummies(data)"
   ]
  },
  {
   "cell_type": "markdown",
   "metadata": {},
   "source": [
    "Средние показатели числовых признаков, за исключением некоторых, разнятся не значительно, нет необходимости в нормализации данных"
   ]
  },
  {
   "cell_type": "code",
   "execution_count": 11,
   "metadata": {},
   "outputs": [
    {
     "data": {
      "text/plain": [
       "Id                 8382.190538\n",
       "DistrictId           50.355718\n",
       "Rooms                 1.884534\n",
       "Square               56.267666\n",
       "LifeSquare           42.362675\n",
       "KitchenSquare         6.266012\n",
       "Floor                 7.890448\n",
       "HouseFloor           12.930741\n",
       "HouseYear          3994.773379\n",
       "Ecology_1             0.118923\n",
       "Social_1             24.673349\n",
       "Social_2           5349.221910\n",
       "Social_3              8.012028\n",
       "Helthcare_2           1.316829\n",
       "Shops_1               4.226521\n",
       "Price            213336.700911\n",
       "Ecology_2_A           0.009722\n",
       "Ecology_2_B           0.990278\n",
       "Ecology_3_A           0.027363\n",
       "Ecology_3_B           0.972637\n",
       "Shops_2_A             0.082690\n",
       "Shops_2_B             0.917310\n",
       "dtype: float64"
      ]
     },
     "execution_count": 11,
     "metadata": {},
     "output_type": "execute_result"
    }
   ],
   "source": [
    "data.mean()"
   ]
  },
  {
   "cell_type": "markdown",
   "metadata": {},
   "source": [
    "Создадим дополнительный столбец для улучшения качества регрессии"
   ]
  },
  {
   "cell_type": "code",
   "execution_count": 12,
   "metadata": {},
   "outputs": [],
   "source": [
    "data['Square_2'] = data.Square ** 2"
   ]
  },
  {
   "cell_type": "markdown",
   "metadata": {},
   "source": [
    "Наличие таких признаков переводит линейную регрессию в разряд \"псевдолинейных\", но отдельно нелинейная регрессия у нас рассматриваться не будет."
   ]
  },
  {
   "cell_type": "markdown",
   "metadata": {},
   "source": [
    "Разобъем данные на train и valid"
   ]
  },
  {
   "cell_type": "code",
   "execution_count": 13,
   "metadata": {},
   "outputs": [],
   "source": [
    "train, valid = train_test_split(data, test_size=0.3, random_state=13)"
   ]
  },
  {
   "cell_type": "code",
   "execution_count": 14,
   "metadata": {},
   "outputs": [
    {
     "data": {
      "text/plain": [
       "(6983, 23)"
      ]
     },
     "execution_count": 14,
     "metadata": {},
     "output_type": "execute_result"
    }
   ],
   "source": [
    "train.shape"
   ]
  },
  {
   "cell_type": "code",
   "execution_count": 15,
   "metadata": {},
   "outputs": [
    {
     "data": {
      "text/plain": [
       "(2994, 23)"
      ]
     },
     "execution_count": 15,
     "metadata": {},
     "output_type": "execute_result"
    }
   ],
   "source": [
    "valid.shape"
   ]
  },
  {
   "cell_type": "markdown",
   "metadata": {},
   "source": [
    "Создадим дополнительный столбец со средними ценами по районам и комнатам для улучшения качества регрессии"
   ]
  },
  {
   "cell_type": "code",
   "execution_count": 16,
   "metadata": {},
   "outputs": [],
   "source": [
    "def mean_costs_and_rooms(train, valid):\n",
    "    train_mean_price = train.groupby(['DistrictId' ,'Rooms'])[['Price']].mean().reset_index()\n",
    "    train_mean_price = train_mean_price.rename(columns={'Price':'mean_price'})\n",
    "    train = pd.merge(train, train_mean_price, on=['DistrictId','Rooms'], how='left')\n",
    "    valid = pd.merge(valid, train_mean_price, on=['DistrictId','Rooms'], how='left')\n",
    "    \n",
    "    train_room_price = train.groupby(['Rooms'])[['Price']].mean().reset_index().rename(columns={'Price':'rooms_price'})\n",
    "    train = pd.merge(train, train_room_price, on=['Rooms'],how='left')\n",
    "    valid = pd.merge(valid, train_room_price, on=['Rooms'],how='left')\n",
    "    valid['mean_price'] = valid['mean_price'].fillna(valid['rooms_price'])\n",
    "    return train, valid\n",
    "    "
   ]
  },
  {
   "cell_type": "code",
   "execution_count": 17,
   "metadata": {},
   "outputs": [],
   "source": [
    "train, valid = mean_costs_and_rooms(train, valid)"
   ]
  },
  {
   "cell_type": "code",
   "execution_count": 18,
   "metadata": {},
   "outputs": [
    {
     "data": {
      "text/plain": [
       "Index(['Id', 'DistrictId', 'Rooms', 'Square', 'LifeSquare', 'KitchenSquare',\n",
       "       'Floor', 'HouseFloor', 'HouseYear', 'Ecology_1', 'Social_1', 'Social_2',\n",
       "       'Social_3', 'Helthcare_2', 'Shops_1', 'Price', 'Ecology_2_A',\n",
       "       'Ecology_2_B', 'Ecology_3_A', 'Ecology_3_B', 'Shops_2_A', 'Shops_2_B',\n",
       "       'Square_2', 'mean_price', 'rooms_price'],\n",
       "      dtype='object')"
      ]
     },
     "execution_count": 18,
     "metadata": {},
     "output_type": "execute_result"
    }
   ],
   "source": [
    "valid.columns"
   ]
  },
  {
   "cell_type": "code",
   "execution_count": 19,
   "metadata": {},
   "outputs": [
    {
     "data": {
      "text/plain": [
       "0"
      ]
     },
     "execution_count": 19,
     "metadata": {},
     "output_type": "execute_result"
    }
   ],
   "source": [
    "valid['rooms_price'].isnull().sum()"
   ]
  },
  {
   "cell_type": "code",
   "execution_count": 20,
   "metadata": {},
   "outputs": [
    {
     "data": {
      "text/plain": [
       "0"
      ]
     },
     "execution_count": 20,
     "metadata": {},
     "output_type": "execute_result"
    }
   ],
   "source": [
    "valid['mean_price'].isnull().sum()"
   ]
  },
  {
   "cell_type": "markdown",
   "metadata": {},
   "source": [
    "# Подберем модель линейной регрессии"
   ]
  },
  {
   "cell_type": "code",
   "execution_count": 21,
   "metadata": {},
   "outputs": [],
   "source": [
    "fts = [ 'Rooms', 'Square', 'LifeSquare', 'KitchenSquare',\n",
    "       'Floor', 'HouseFloor', 'HouseYear', 'Ecology_1', 'Social_1', 'Social_2',\n",
    "       'Social_3', 'Helthcare_2', 'Shops_1',  'Ecology_2_A',\n",
    "       'Ecology_2_B', 'Ecology_3_A', 'Ecology_3_B', 'Shops_2_A', 'Shops_2_B', 'Square_2',\n",
    "       'mean_price']"
   ]
  },
  {
   "cell_type": "code",
   "execution_count": 22,
   "metadata": {},
   "outputs": [],
   "source": [
    "def linear_regression(train, valid, target_name, fts):\n",
    "    lr = LinearRegression()\n",
    "    lr.fit(train.loc[:, fts], train[target_name])\n",
    "    pred = lr.predict(train.loc[:, fts])\n",
    "    r2_train = r2(train[target_name], pred)\n",
    "    pred_valid = lr.predict(valid.loc[:, fts])\n",
    "    r2_valid = r2(valid[target_name], pred_valid)\n",
    "    return [lr, r2_train, r2_valid]\n",
    "    "
   ]
  },
  {
   "cell_type": "code",
   "execution_count": 23,
   "metadata": {},
   "outputs": [
    {
     "name": "stdout",
     "output_type": "stream",
     "text": [
      "r2_train = 0.722638\n",
      "r2_valid = 0.628529\n"
     ]
    }
   ],
   "source": [
    "lin_reg1 = linear_regression(train, valid, 'Price', fts)\n",
    "print(f'r2_train = {lin_reg1[1]:.6f}')\n",
    "print(f'r2_valid = {lin_reg1[2]:.6f}')"
   ]
  },
  {
   "cell_type": "code",
   "execution_count": 24,
   "metadata": {},
   "outputs": [
    {
     "data": {
      "text/plain": [
       "{'Rooms': -30724.341374787204,\n",
       " 'Square': 2822.9575917846028,\n",
       " 'LifeSquare': -451.86069740425336,\n",
       " 'KitchenSquare': -12.20014912141774,\n",
       " 'Floor': 789.7539837599975,\n",
       " 'HouseFloor': 622.7690617791228,\n",
       " 'HouseYear': 0.0008444731640831538,\n",
       " 'Ecology_1': -8369.284903790043,\n",
       " 'Social_1': 848.827669715467,\n",
       " 'Social_2': -2.1301843826663727,\n",
       " 'Social_3': 136.52198357061303,\n",
       " 'Helthcare_2': 1610.2113336280502,\n",
       " 'Shops_1': -845.3167008429479,\n",
       " 'Ecology_2_A': -1624.7762244487992,\n",
       " 'Ecology_2_B': 1624.7762244488079,\n",
       " 'Ecology_3_A': 587.6921217950863,\n",
       " 'Ecology_3_B': -587.6921217950886,\n",
       " 'Shops_2_A': -1353.0083985257195,\n",
       " 'Shops_2_B': 1353.0083985257174,\n",
       " 'Square_2': -3.786990298411552,\n",
       " 'mean_price': 0.9226113879300182}"
      ]
     },
     "execution_count": 24,
     "metadata": {},
     "output_type": "execute_result"
    }
   ],
   "source": [
    "coef ={}\n",
    "for i in range(len(lin_reg1[0].coef_)):\n",
    "    coef[str(fts[i])] = lin_reg1[0].coef_[i]\n",
    "coef"
   ]
  },
  {
   "cell_type": "markdown",
   "metadata": {},
   "source": [
    "Посмотрим корреляцию признаков с целевым"
   ]
  },
  {
   "cell_type": "code",
   "execution_count": 25,
   "metadata": {},
   "outputs": [
    {
     "data": {
      "text/plain": [
       "Id               0.009470\n",
       "DistrictId       0.265229\n",
       "Rooms            0.569079\n",
       "Square           0.516133\n",
       "LifeSquare       0.266377\n",
       "KitchenSquare    0.028431\n",
       "Floor            0.114469\n",
       "HouseFloor       0.088547\n",
       "HouseYear        0.004478\n",
       "Ecology_1       -0.057556\n",
       "Social_1         0.265466\n",
       "Social_2         0.241461\n",
       "Social_3         0.070967\n",
       "Helthcare_2      0.251274\n",
       "Shops_1          0.180599\n",
       "Price            1.000000\n",
       "Ecology_2_A     -0.021948\n",
       "Ecology_2_B      0.021948\n",
       "Ecology_3_A      0.049877\n",
       "Ecology_3_B     -0.049877\n",
       "Shops_2_A       -0.069141\n",
       "Shops_2_B        0.069141\n",
       "Square_2         0.214499\n",
       "Name: Price, dtype: float64"
      ]
     },
     "execution_count": 25,
     "metadata": {},
     "output_type": "execute_result"
    }
   ],
   "source": [
    "correl = data.corr()\n",
    "correl.Price"
   ]
  },
  {
   "cell_type": "markdown",
   "metadata": {},
   "source": [
    "Удалим признаки с отрицательным влиянием\n"
   ]
  },
  {
   "cell_type": "code",
   "execution_count": 26,
   "metadata": {},
   "outputs": [],
   "source": [
    "fts = [ 'Rooms', 'Square', 'LifeSquare', 'KitchenSquare',\n",
    "       'Floor', 'HouseFloor', 'HouseYear', 'Ecology_1', 'Social_1', 'Social_2',\n",
    "       'Social_3', 'Helthcare_2', 'Shops_1',  \n",
    "       'Ecology_2_B', 'Ecology_3_A',   'Shops_2_B', 'Square_2',\n",
    "       'mean_price']"
   ]
  },
  {
   "cell_type": "code",
   "execution_count": 27,
   "metadata": {},
   "outputs": [
    {
     "name": "stdout",
     "output_type": "stream",
     "text": [
      "r2_train = 0.722638\n",
      "r2_valid = 0.628529\n"
     ]
    }
   ],
   "source": [
    "lin_reg2 = linear_regression(train, valid, 'Price', fts)\n",
    "print(f'r2_train = {lin_reg2[1]:.6f}')\n",
    "print(f'r2_valid = {lin_reg2[2]:.6f}')"
   ]
  },
  {
   "cell_type": "markdown",
   "metadata": {},
   "source": [
    "Значение  r2 для линейной регрессии не достаточно для того, чтобы рекомендовать данную модель для построения прогноза"
   ]
  },
  {
   "cell_type": "markdown",
   "metadata": {},
   "source": [
    "# Применяем RandomForest"
   ]
  },
  {
   "cell_type": "markdown",
   "metadata": {},
   "source": [
    "## Вторая версия:"
   ]
  },
  {
   "cell_type": "markdown",
   "metadata": {},
   "source": [
    "В случае RandomForest большее количество признаков способствует улучшению качества. Подберем модель и проведем факторный анализ"
   ]
  },
  {
   "cell_type": "code",
   "execution_count": 28,
   "metadata": {},
   "outputs": [],
   "source": [
    "fts = ['Square', 'Rooms', 'LifeSquare','HouseYear', 'Ecology_1', 'Social_1', 'Social_2',\n",
    "       'Social_3', 'Helthcare_2', 'Shops_1', 'KitchenSquare', 'Ecology_2_A',\n",
    "       'Ecology_2_B', 'Ecology_3_A', 'Ecology_3_B', 'Shops_2_A', 'Shops_2_B' ]"
   ]
  },
  {
   "cell_type": "code",
   "execution_count": 29,
   "metadata": {},
   "outputs": [],
   "source": [
    "from sklearn.ensemble import RandomForestRegressor as RF\n",
    "from sklearn.model_selection import GridSearchCV"
   ]
  },
  {
   "cell_type": "code",
   "execution_count": 30,
   "metadata": {},
   "outputs": [],
   "source": [
    "parameters = [{'n_estimators': [50, 75, 100], 'max_features': np.arange(1, len(fts)),\n",
    "              'max_depth': np.arange(5, 6)}]"
   ]
  },
  {
   "cell_type": "code",
   "execution_count": 31,
   "metadata": {},
   "outputs": [],
   "source": [
    "def rf_fit(depth, feacher, estim, target_name, train, valid, fts):\n",
    "    rf = RF(random_state=13, max_depth=depth,max_features=feacher, n_estimators=estim, n_jobs= -1)\n",
    "    rf.fit(train.loc[:, fts], train[target_name])\n",
    "    pred_rf = rf.predict(train.loc[:, fts])\n",
    "    r2_train = r2(train[target_name], pred_rf)\n",
    "    pred_valid_rf = rf.predict(valid.loc[:, fts])\n",
    "    r2_valid = r2(valid[target_name], pred_valid_rf)\n",
    "    return [rf,[estim, feacher, depth, r2_train, r2_valid]]\n",
    "\n",
    "\n",
    "def find_result_with_grid(parameters, target_name, train, valid, fts):\n",
    "    data = {}\n",
    "    fts1 = fts[0:2]\n",
    "    for feach in fts:\n",
    "        if feach not in fts1:\n",
    "            fts1 += [feach]\n",
    "            parameters = [{'n_estimators': [50, 75, 100, 150], 'max_features': np.arange(1, len(fts1)),\n",
    "               'max_depth': np.arange(5, 15)}]\n",
    "            clf = GridSearchCV(estimator=RF(random_state=13), param_grid=parameters, scoring='r2', cv=5, n_jobs=-1)\n",
    "            clf.fit(train.loc[:, fts1], train[target_name])\n",
    "            spum = clf.best_params_\n",
    "            spum_rf = rf_fit(spum['max_depth'],spum['max_features'],spum['n_estimators'], 'Price', train, valid, fts1)[1]\n",
    "            data[str(feach)] = spum_rf \n",
    "    result_rf = pd.DataFrame.from_dict(data, orient='index', columns=['estim', 'feacher', 'depth',\n",
    "                                                                  'r2_train', 'r2_valid'])\n",
    "    return result_rf\n",
    "\n",
    "\n",
    "def max_result(result_rf):\n",
    "    result_max = result_rf.loc[result_rf.r2_valid == result_rf.r2_valid.max(), :]\n",
    "    return result_max\n"
   ]
  },
  {
   "cell_type": "markdown",
   "metadata": {},
   "source": [
    "### Первая итерация"
   ]
  },
  {
   "cell_type": "code",
   "execution_count": 32,
   "metadata": {},
   "outputs": [
    {
     "name": "stdout",
     "output_type": "stream",
     "text": [
      "CPU times: user 3min 13s, sys: 9.39 s, total: 3min 22s\n",
      "Wall time: 1h 8min 41s\n"
     ]
    }
   ],
   "source": [
    "%time feacher_busting = find_result_with_grid(parameters, 'Price', train, valid, fts)\n"
   ]
  },
  {
   "cell_type": "markdown",
   "metadata": {},
   "source": [
    " проводим факторный анализ методом цепных подстановок."
   ]
  },
  {
   "cell_type": "code",
   "execution_count": 33,
   "metadata": {},
   "outputs": [
    {
     "name": "stdout",
     "output_type": "stream",
     "text": [
      "Результат проверки: True\n"
     ]
    }
   ],
   "source": [
    "def factor_analisis(result_rf):\n",
    "    result_rf['influence'] = result_rf['r2_valid'] - result_rf['r2_valid'].shift(1)\n",
    "    result_rf['influence'] = result_rf['influence'].fillna(0)\n",
    "    result_rf['influence']\n",
    "    r2_finish = result_rf.r2_valid[-1]\n",
    "    r2_start = result_rf.r2_valid[0]\n",
    "    d_sum = result_rf.loc[:, 'influence'].sum()\n",
    "    print(f'Результат проверки: {d_sum == r2_finish - r2_start}')\n",
    "    return result_rf\n",
    "\n",
    "result_rf = factor_analisis(feacher_busting)"
   ]
  },
  {
   "cell_type": "markdown",
   "metadata": {},
   "source": [
    "Выявим и исключим факторы с отрицательным влиянием"
   ]
  },
  {
   "cell_type": "code",
   "execution_count": 34,
   "metadata": {},
   "outputs": [
    {
     "data": {
      "text/html": [
       "<div>\n",
       "<style scoped>\n",
       "    .dataframe tbody tr th:only-of-type {\n",
       "        vertical-align: middle;\n",
       "    }\n",
       "\n",
       "    .dataframe tbody tr th {\n",
       "        vertical-align: top;\n",
       "    }\n",
       "\n",
       "    .dataframe thead th {\n",
       "        text-align: right;\n",
       "    }\n",
       "</style>\n",
       "<table border=\"1\" class=\"dataframe\">\n",
       "  <thead>\n",
       "    <tr style=\"text-align: right;\">\n",
       "      <th></th>\n",
       "      <th>estim</th>\n",
       "      <th>feacher</th>\n",
       "      <th>depth</th>\n",
       "      <th>r2_train</th>\n",
       "      <th>r2_valid</th>\n",
       "      <th>influence</th>\n",
       "    </tr>\n",
       "  </thead>\n",
       "  <tbody>\n",
       "    <tr>\n",
       "      <th>Ecology_2_A</th>\n",
       "      <td>150</td>\n",
       "      <td>2</td>\n",
       "      <td>14</td>\n",
       "      <td>0.916086</td>\n",
       "      <td>0.734485</td>\n",
       "      <td>-0.001347</td>\n",
       "    </tr>\n",
       "    <tr>\n",
       "      <th>Ecology_2_B</th>\n",
       "      <td>150</td>\n",
       "      <td>2</td>\n",
       "      <td>14</td>\n",
       "      <td>0.913623</td>\n",
       "      <td>0.732830</td>\n",
       "      <td>-0.001655</td>\n",
       "    </tr>\n",
       "    <tr>\n",
       "      <th>Ecology_3_B</th>\n",
       "      <td>150</td>\n",
       "      <td>4</td>\n",
       "      <td>14</td>\n",
       "      <td>0.919911</td>\n",
       "      <td>0.732464</td>\n",
       "      <td>-0.000776</td>\n",
       "    </tr>\n",
       "    <tr>\n",
       "      <th>Shops_2_A</th>\n",
       "      <td>150</td>\n",
       "      <td>5</td>\n",
       "      <td>13</td>\n",
       "      <td>0.906102</td>\n",
       "      <td>0.731035</td>\n",
       "      <td>-0.001429</td>\n",
       "    </tr>\n",
       "  </tbody>\n",
       "</table>\n",
       "</div>"
      ],
      "text/plain": [
       "             estim  feacher  depth  r2_train  r2_valid  influence\n",
       "Ecology_2_A    150        2     14  0.916086  0.734485  -0.001347\n",
       "Ecology_2_B    150        2     14  0.913623  0.732830  -0.001655\n",
       "Ecology_3_B    150        4     14  0.919911  0.732464  -0.000776\n",
       "Shops_2_A      150        5     13  0.906102  0.731035  -0.001429"
      ]
     },
     "execution_count": 34,
     "metadata": {},
     "output_type": "execute_result"
    }
   ],
   "source": [
    "result_rf.loc[result_rf['influence'] < 0, :]"
   ]
  },
  {
   "cell_type": "code",
   "execution_count": 35,
   "metadata": {},
   "outputs": [],
   "source": [
    "fts = ['Square', 'Rooms', 'LifeSquare','HouseYear', 'Ecology_1', 'Social_1', 'Social_2',\n",
    "       'Social_3', 'Helthcare_2', 'Shops_1', 'KitchenSquare', \n",
    "        'Ecology_3_A',   'Shops_2_B' ]"
   ]
  },
  {
   "cell_type": "markdown",
   "metadata": {},
   "source": [
    "### Вторая итерация"
   ]
  },
  {
   "cell_type": "code",
   "execution_count": 37,
   "metadata": {},
   "outputs": [
    {
     "name": "stdout",
     "output_type": "stream",
     "text": [
      "CPU times: user 1min 52s, sys: 5.39 s, total: 1min 57s\n",
      "Wall time: 36min 58s\n"
     ]
    }
   ],
   "source": [
    "%time result_rf2 = find_result_with_grid(parameters, 'Price', train, valid, fts)"
   ]
  },
  {
   "cell_type": "code",
   "execution_count": 38,
   "metadata": {},
   "outputs": [
    {
     "name": "stdout",
     "output_type": "stream",
     "text": [
      "Результат проверки: True\n"
     ]
    },
    {
     "data": {
      "text/html": [
       "<div>\n",
       "<style scoped>\n",
       "    .dataframe tbody tr th:only-of-type {\n",
       "        vertical-align: middle;\n",
       "    }\n",
       "\n",
       "    .dataframe tbody tr th {\n",
       "        vertical-align: top;\n",
       "    }\n",
       "\n",
       "    .dataframe thead th {\n",
       "        text-align: right;\n",
       "    }\n",
       "</style>\n",
       "<table border=\"1\" class=\"dataframe\">\n",
       "  <thead>\n",
       "    <tr style=\"text-align: right;\">\n",
       "      <th></th>\n",
       "      <th>estim</th>\n",
       "      <th>feacher</th>\n",
       "      <th>depth</th>\n",
       "      <th>r2_train</th>\n",
       "      <th>r2_valid</th>\n",
       "      <th>influence</th>\n",
       "    </tr>\n",
       "  </thead>\n",
       "  <tbody>\n",
       "    <tr>\n",
       "      <th>Ecology_3_A</th>\n",
       "      <td>150</td>\n",
       "      <td>2</td>\n",
       "      <td>14</td>\n",
       "      <td>0.915783</td>\n",
       "      <td>0.734778</td>\n",
       "      <td>-0.001054</td>\n",
       "    </tr>\n",
       "    <tr>\n",
       "      <th>Shops_2_B</th>\n",
       "      <td>75</td>\n",
       "      <td>3</td>\n",
       "      <td>14</td>\n",
       "      <td>0.920666</td>\n",
       "      <td>0.734668</td>\n",
       "      <td>-0.000110</td>\n",
       "    </tr>\n",
       "  </tbody>\n",
       "</table>\n",
       "</div>"
      ],
      "text/plain": [
       "             estim  feacher  depth  r2_train  r2_valid  influence\n",
       "Ecology_3_A    150        2     14  0.915783  0.734778  -0.001054\n",
       "Shops_2_B       75        3     14  0.920666  0.734668  -0.000110"
      ]
     },
     "execution_count": 38,
     "metadata": {},
     "output_type": "execute_result"
    }
   ],
   "source": [
    "result_rf2 = factor_analisis(result_rf2)\n",
    "result_rf2.loc[result_rf2['influence'] < 0, :]"
   ]
  },
  {
   "cell_type": "markdown",
   "metadata": {},
   "source": [
    "По прежнему сохраняются признаки с отрицательным влиянием"
   ]
  },
  {
   "cell_type": "code",
   "execution_count": 40,
   "metadata": {},
   "outputs": [],
   "source": [
    "fts = ['Square', 'Rooms', 'LifeSquare','HouseYear', 'Ecology_1', 'Social_1', 'Social_2',\n",
    "       'Social_3', 'Helthcare_2', 'Shops_1', 'KitchenSquare' ]"
   ]
  },
  {
   "cell_type": "markdown",
   "metadata": {},
   "source": [
    "### Проводим третью итерацию"
   ]
  },
  {
   "cell_type": "code",
   "execution_count": 41,
   "metadata": {},
   "outputs": [
    {
     "name": "stdout",
     "output_type": "stream",
     "text": [
      "CPU times: user 1min 23s, sys: 3.78 s, total: 1min 27s\n",
      "Wall time: 24min 53s\n"
     ]
    }
   ],
   "source": [
    "%time result_rf3 = find_result_with_grid(parameters, 'Price', train, valid, fts)\n"
   ]
  },
  {
   "cell_type": "code",
   "execution_count": 42,
   "metadata": {},
   "outputs": [
    {
     "name": "stdout",
     "output_type": "stream",
     "text": [
      "Результат проверки: True\n"
     ]
    },
    {
     "data": {
      "text/html": [
       "<div>\n",
       "<style scoped>\n",
       "    .dataframe tbody tr th:only-of-type {\n",
       "        vertical-align: middle;\n",
       "    }\n",
       "\n",
       "    .dataframe tbody tr th {\n",
       "        vertical-align: top;\n",
       "    }\n",
       "\n",
       "    .dataframe thead th {\n",
       "        text-align: right;\n",
       "    }\n",
       "</style>\n",
       "<table border=\"1\" class=\"dataframe\">\n",
       "  <thead>\n",
       "    <tr style=\"text-align: right;\">\n",
       "      <th></th>\n",
       "      <th>estim</th>\n",
       "      <th>feacher</th>\n",
       "      <th>depth</th>\n",
       "      <th>r2_train</th>\n",
       "      <th>r2_valid</th>\n",
       "      <th>influence</th>\n",
       "    </tr>\n",
       "  </thead>\n",
       "  <tbody>\n",
       "  </tbody>\n",
       "</table>\n",
       "</div>"
      ],
      "text/plain": [
       "Empty DataFrame\n",
       "Columns: [estim, feacher, depth, r2_train, r2_valid, influence]\n",
       "Index: []"
      ]
     },
     "execution_count": 42,
     "metadata": {},
     "output_type": "execute_result"
    }
   ],
   "source": [
    "result_rf3 = factor_analisis(result_rf3)\n",
    "result_rf3.loc[result_rf3['influence'] < 0, :]"
   ]
  },
  {
   "cell_type": "code",
   "execution_count": 43,
   "metadata": {},
   "outputs": [
    {
     "data": {
      "text/html": [
       "<div>\n",
       "<style scoped>\n",
       "    .dataframe tbody tr th:only-of-type {\n",
       "        vertical-align: middle;\n",
       "    }\n",
       "\n",
       "    .dataframe tbody tr th {\n",
       "        vertical-align: top;\n",
       "    }\n",
       "\n",
       "    .dataframe thead th {\n",
       "        text-align: right;\n",
       "    }\n",
       "</style>\n",
       "<table border=\"1\" class=\"dataframe\">\n",
       "  <thead>\n",
       "    <tr style=\"text-align: right;\">\n",
       "      <th></th>\n",
       "      <th>estim</th>\n",
       "      <th>feacher</th>\n",
       "      <th>depth</th>\n",
       "      <th>r2_train</th>\n",
       "      <th>r2_valid</th>\n",
       "      <th>influence</th>\n",
       "    </tr>\n",
       "  </thead>\n",
       "  <tbody>\n",
       "    <tr>\n",
       "      <th>KitchenSquare</th>\n",
       "      <td>150</td>\n",
       "      <td>2</td>\n",
       "      <td>14</td>\n",
       "      <td>0.919168</td>\n",
       "      <td>0.735832</td>\n",
       "      <td>0.005697</td>\n",
       "    </tr>\n",
       "  </tbody>\n",
       "</table>\n",
       "</div>"
      ],
      "text/plain": [
       "               estim  feacher  depth  r2_train  r2_valid  influence\n",
       "KitchenSquare    150        2     14  0.919168  0.735832   0.005697"
      ]
     },
     "execution_count": 43,
     "metadata": {},
     "output_type": "execute_result"
    }
   ],
   "source": [
    "max_result(result_rf3)"
   ]
  },
  {
   "cell_type": "code",
   "execution_count": 44,
   "metadata": {},
   "outputs": [
    {
     "name": "stdout",
     "output_type": "stream",
     "text": [
      "r2_valid = 0.7358320341541345\n"
     ]
    }
   ],
   "source": [
    "rf = rf_fit(14, 2, 150, 'Price', train, valid, fts)\n",
    "recommended_model = rf[0]\n",
    "print(f'r2_valid = {rf[1][-1]}')"
   ]
  },
  {
   "cell_type": "markdown",
   "metadata": {},
   "source": [
    "Рекомендуемая модель сохранена в переменную recommended_model для дальнейшей работы с тестовыми данными. Результат чуть лучше, чем в первой версии."
   ]
  },
  {
   "cell_type": "markdown",
   "metadata": {},
   "source": [
    "## Первая версия"
   ]
  },
  {
   "cell_type": "markdown",
   "metadata": {},
   "source": [
    "Первая версия была без GridSearchCV."
   ]
  },
  {
   "cell_type": "code",
   "execution_count": 45,
   "metadata": {},
   "outputs": [],
   "source": [
    "fts = ['Square', 'Rooms', 'LifeSquare','HouseYear', 'Ecology_1', 'Social_1', 'Social_2',\n",
    "       'Social_3', 'Helthcare_2', 'Shops_1', 'KitchenSquare', 'Ecology_2_A',\n",
    "       'Ecology_2_B', 'Ecology_3_A', 'Ecology_3_B', 'Shops_2_A', 'Shops_2_B' ]"
   ]
  },
  {
   "cell_type": "code",
   "execution_count": 46,
   "metadata": {},
   "outputs": [],
   "source": [
    "parameters = [{'n_estimators': [5, 25, 50, 75, 150],\n",
    "              'max_features': np.arange(5, len(fts)),\n",
    "               'max_depth': np.arange(5, 15)}]"
   ]
  },
  {
   "cell_type": "code",
   "execution_count": 47,
   "metadata": {},
   "outputs": [
    {
     "name": "stdout",
     "output_type": "stream",
     "text": [
      "CPU times: user 8min 27s, sys: 0 ns, total: 8min 27s\n",
      "Wall time: 8min 27s\n"
     ]
    },
    {
     "data": {
      "text/html": [
       "<div>\n",
       "<style scoped>\n",
       "    .dataframe tbody tr th:only-of-type {\n",
       "        vertical-align: middle;\n",
       "    }\n",
       "\n",
       "    .dataframe tbody tr th {\n",
       "        vertical-align: top;\n",
       "    }\n",
       "\n",
       "    .dataframe thead th {\n",
       "        text-align: right;\n",
       "    }\n",
       "</style>\n",
       "<table border=\"1\" class=\"dataframe\">\n",
       "  <thead>\n",
       "    <tr style=\"text-align: right;\">\n",
       "      <th></th>\n",
       "      <th>estim</th>\n",
       "      <th>feacher</th>\n",
       "      <th>depth</th>\n",
       "      <th>r2_train</th>\n",
       "      <th>r2_valid</th>\n",
       "    </tr>\n",
       "  </thead>\n",
       "  <tbody>\n",
       "    <tr>\n",
       "      <th>489</th>\n",
       "      <td>150</td>\n",
       "      <td>5</td>\n",
       "      <td>14</td>\n",
       "      <td>0.921244</td>\n",
       "      <td>0.735717</td>\n",
       "    </tr>\n",
       "  </tbody>\n",
       "</table>\n",
       "</div>"
      ],
      "text/plain": [
       "     estim  feacher  depth  r2_train  r2_valid\n",
       "489    150        5     14  0.921244  0.735717"
      ]
     },
     "execution_count": 47,
     "metadata": {},
     "output_type": "execute_result"
    }
   ],
   "source": [
    "def rf_fit(depth,feacher, estim, train, valid, fts):\n",
    "    rf = RF(random_state=13, max_depth=depth, max_features=feacher, n_estimators=estim)\n",
    "    rf.fit(train.loc[:, fts], train['Price'])\n",
    "    pred_rf = rf.predict(train.loc[:, fts])\n",
    "    r2_train = r2(train['Price'], pred_rf)\n",
    "    pred_valid_rf = rf.predict(valid.loc[:, fts])\n",
    "    r2_valid = r2(valid['Price'], pred_valid_rf)\n",
    "    return [rf, [estim, feacher, depth, r2_train, r2_valid]]\n",
    "\n",
    "\n",
    "def find_result(parameters, train, valid, fts):\n",
    "    result = []\n",
    "    for estim in parameters[0]['n_estimators']:\n",
    "         for feacher in parameters[0]['max_features']:\n",
    "                for depth in parameters[0]['max_depth']:                  \n",
    "                    result.append(rf_fit(depth,feacher, estim, train, valid, fts)[1])                    \n",
    "    result_df = pd.DataFrame(result, columns=['estim', 'feacher', 'depth', 'r2_train', 'r2_valid'])\n",
    "    return result_df\n",
    "\n",
    "\n",
    "def max_result(result_df):\n",
    "    result_max = result_df.loc[result_df.r2_valid == result_df.r2_valid.max(), :]\n",
    "    return result_max\n",
    "\n",
    "\n",
    "%time result_df = find_result(parameters, train, valid, fts)\n",
    "max_result = max_result(result_df)\n",
    "max_result"
   ]
  },
  {
   "cell_type": "code",
   "execution_count": 49,
   "metadata": {},
   "outputs": [],
   "source": [
    "max_rf_result = rf_fit(int(max_result.depth), int(max_result.feacher), int(max_result.estim), train, valid, fts)"
   ]
  },
  {
   "cell_type": "code",
   "execution_count": 50,
   "metadata": {},
   "outputs": [
    {
     "name": "stdout",
     "output_type": "stream",
     "text": [
      "r2_train = 0.9212439682331471\n"
     ]
    }
   ],
   "source": [
    "print(f'r2_train = {max_rf_result[1][-2]}')"
   ]
  },
  {
   "cell_type": "code",
   "execution_count": 51,
   "metadata": {},
   "outputs": [
    {
     "name": "stdout",
     "output_type": "stream",
     "text": [
      "r2_valid = 0.7357169530167125\n"
     ]
    }
   ],
   "source": [
    "print(f'r2_valid = {max_rf_result[1][-1]}')"
   ]
  },
  {
   "cell_type": "code",
   "execution_count": 52,
   "metadata": {},
   "outputs": [
    {
     "data": {
      "text/plain": [
       "RandomForestRegressor(bootstrap=True, criterion='mse', max_depth=14,\n",
       "           max_features=5, max_leaf_nodes=None, min_impurity_decrease=0.0,\n",
       "           min_impurity_split=None, min_samples_leaf=1,\n",
       "           min_samples_split=2, min_weight_fraction_leaf=0.0,\n",
       "           n_estimators=150, n_jobs=None, oob_score=False, random_state=13,\n",
       "           verbose=0, warm_start=False)"
      ]
     },
     "execution_count": 52,
     "metadata": {},
     "output_type": "execute_result"
    }
   ],
   "source": [
    "rf_final = max_rf_result[0]\n",
    "rf_final"
   ]
  },
  {
   "cell_type": "markdown",
   "metadata": {},
   "source": [
    "Построим график результатов модели"
   ]
  },
  {
   "cell_type": "code",
   "execution_count": 53,
   "metadata": {},
   "outputs": [],
   "source": [
    "result_df = result_df.sort_values(by=['r2_train'])"
   ]
  },
  {
   "cell_type": "code",
   "execution_count": 54,
   "metadata": {},
   "outputs": [
    {
     "data": {
      "text/plain": [
       "<matplotlib.legend.Legend at 0x7fb1ce75c898>"
      ]
     },
     "execution_count": 54,
     "metadata": {},
     "output_type": "execute_result"
    },
    {
     "data": {
      "image/png": "[encoded data removed]",
      "text/plain": [
       "<Figure size 576x432 with 1 Axes>"
      ]
     },
     "metadata": {
      "needs_background": "light"
     },
     "output_type": "display_data"
    }
   ],
   "source": [
    "fig, ax = plt.subplots()\n",
    "fig.set_size_inches(8, 6)\n",
    "ax.plot( [i for i in range(len(result_df.r2_train))], result_df.r2_train)\n",
    "ax.plot( [i for i in range(len(result_df.r2_train))], result_df.r2_valid)\n",
    "ax.grid(which='major', color='grey')\n",
    "ax.grid(which='minor', color='k')\n",
    "plt.xlabel('sequence number' )\n",
    "plt.ylabel('value')\n",
    "plt.legend(('r2_train', 'r2_valid'))"
   ]
  },
  {
   "cell_type": "markdown",
   "metadata": {},
   "source": [
    "Данные test скорректированы в отдельном файле"
   ]
  },
  {
   "cell_type": "code",
   "execution_count": 55,
   "metadata": {},
   "outputs": [
    {
     "data": {
      "text/html": [
       "<div>\n",
       "<style scoped>\n",
       "    .dataframe tbody tr th:only-of-type {\n",
       "        vertical-align: middle;\n",
       "    }\n",
       "\n",
       "    .dataframe tbody tr th {\n",
       "        vertical-align: top;\n",
       "    }\n",
       "\n",
       "    .dataframe thead th {\n",
       "        text-align: right;\n",
       "    }\n",
       "</style>\n",
       "<table border=\"1\" class=\"dataframe\">\n",
       "  <thead>\n",
       "    <tr style=\"text-align: right;\">\n",
       "      <th></th>\n",
       "      <th>Id</th>\n",
       "      <th>DistrictId</th>\n",
       "      <th>Rooms</th>\n",
       "      <th>Square</th>\n",
       "      <th>LifeSquare</th>\n",
       "      <th>KitchenSquare</th>\n",
       "      <th>Floor</th>\n",
       "      <th>HouseFloor</th>\n",
       "      <th>HouseYear</th>\n",
       "      <th>Ecology_1</th>\n",
       "      <th>...</th>\n",
       "      <th>Social_3</th>\n",
       "      <th>Healthcare_1</th>\n",
       "      <th>Helthcare_2</th>\n",
       "      <th>Shops_1</th>\n",
       "      <th>Ecology_2_A</th>\n",
       "      <th>Ecology_2_B</th>\n",
       "      <th>Ecology_3_A</th>\n",
       "      <th>Ecology_3_B</th>\n",
       "      <th>Shops_2_A</th>\n",
       "      <th>Shops_2_B</th>\n",
       "    </tr>\n",
       "  </thead>\n",
       "  <tbody>\n",
       "    <tr>\n",
       "      <th>0</th>\n",
       "      <td>725</td>\n",
       "      <td>58</td>\n",
       "      <td>2.0</td>\n",
       "      <td>49.882643</td>\n",
       "      <td>33.432782</td>\n",
       "      <td>6.0</td>\n",
       "      <td>6.0</td>\n",
       "      <td>14.0</td>\n",
       "      <td>1972</td>\n",
       "      <td>0.310199</td>\n",
       "      <td>...</td>\n",
       "      <td>1</td>\n",
       "      <td>NaN</td>\n",
       "      <td>0</td>\n",
       "      <td>0</td>\n",
       "      <td>0</td>\n",
       "      <td>1</td>\n",
       "      <td>0</td>\n",
       "      <td>1</td>\n",
       "      <td>0</td>\n",
       "      <td>1</td>\n",
       "    </tr>\n",
       "    <tr>\n",
       "      <th>1</th>\n",
       "      <td>15856</td>\n",
       "      <td>74</td>\n",
       "      <td>2.0</td>\n",
       "      <td>69.263183</td>\n",
       "      <td>69.263183</td>\n",
       "      <td>1.0</td>\n",
       "      <td>1.0</td>\n",
       "      <td>1.0</td>\n",
       "      <td>1977</td>\n",
       "      <td>0.075779</td>\n",
       "      <td>...</td>\n",
       "      <td>3</td>\n",
       "      <td>NaN</td>\n",
       "      <td>0</td>\n",
       "      <td>2</td>\n",
       "      <td>0</td>\n",
       "      <td>1</td>\n",
       "      <td>0</td>\n",
       "      <td>1</td>\n",
       "      <td>0</td>\n",
       "      <td>1</td>\n",
       "    </tr>\n",
       "    <tr>\n",
       "      <th>2</th>\n",
       "      <td>5480</td>\n",
       "      <td>190</td>\n",
       "      <td>1.0</td>\n",
       "      <td>15.948246</td>\n",
       "      <td>15.948246</td>\n",
       "      <td>12.0</td>\n",
       "      <td>2.0</td>\n",
       "      <td>5.0</td>\n",
       "      <td>1909</td>\n",
       "      <td>0.000000</td>\n",
       "      <td>...</td>\n",
       "      <td>87</td>\n",
       "      <td>4702.0</td>\n",
       "      <td>5</td>\n",
       "      <td>5</td>\n",
       "      <td>0</td>\n",
       "      <td>1</td>\n",
       "      <td>0</td>\n",
       "      <td>1</td>\n",
       "      <td>0</td>\n",
       "      <td>1</td>\n",
       "    </tr>\n",
       "    <tr>\n",
       "      <th>3</th>\n",
       "      <td>15664</td>\n",
       "      <td>47</td>\n",
       "      <td>2.0</td>\n",
       "      <td>73.046609</td>\n",
       "      <td>51.940842</td>\n",
       "      <td>9.0</td>\n",
       "      <td>22.0</td>\n",
       "      <td>22.0</td>\n",
       "      <td>2007</td>\n",
       "      <td>0.101872</td>\n",
       "      <td>...</td>\n",
       "      <td>3</td>\n",
       "      <td>NaN</td>\n",
       "      <td>3</td>\n",
       "      <td>3</td>\n",
       "      <td>0</td>\n",
       "      <td>1</td>\n",
       "      <td>0</td>\n",
       "      <td>1</td>\n",
       "      <td>0</td>\n",
       "      <td>1</td>\n",
       "    </tr>\n",
       "    <tr>\n",
       "      <th>4</th>\n",
       "      <td>14275</td>\n",
       "      <td>27</td>\n",
       "      <td>1.0</td>\n",
       "      <td>47.527111</td>\n",
       "      <td>43.387569</td>\n",
       "      <td>1.0</td>\n",
       "      <td>17.0</td>\n",
       "      <td>17.0</td>\n",
       "      <td>2017</td>\n",
       "      <td>0.072158</td>\n",
       "      <td>...</td>\n",
       "      <td>1</td>\n",
       "      <td>NaN</td>\n",
       "      <td>0</td>\n",
       "      <td>0</td>\n",
       "      <td>0</td>\n",
       "      <td>1</td>\n",
       "      <td>0</td>\n",
       "      <td>1</td>\n",
       "      <td>1</td>\n",
       "      <td>0</td>\n",
       "    </tr>\n",
       "  </tbody>\n",
       "</table>\n",
       "<p>5 rows × 22 columns</p>\n",
       "</div>"
      ],
      "text/plain": [
       "      Id  DistrictId  Rooms     Square  LifeSquare  KitchenSquare  Floor  \\\n",
       "0    725          58    2.0  49.882643   33.432782            6.0    6.0   \n",
       "1  15856          74    2.0  69.263183   69.263183            1.0    1.0   \n",
       "2   5480         190    1.0  15.948246   15.948246           12.0    2.0   \n",
       "3  15664          47    2.0  73.046609   51.940842            9.0   22.0   \n",
       "4  14275          27    1.0  47.527111   43.387569            1.0   17.0   \n",
       "\n",
       "   HouseFloor  HouseYear  Ecology_1    ...      Social_3  Healthcare_1  \\\n",
       "0        14.0       1972   0.310199    ...             1           NaN   \n",
       "1         1.0       1977   0.075779    ...             3           NaN   \n",
       "2         5.0       1909   0.000000    ...            87        4702.0   \n",
       "3        22.0       2007   0.101872    ...             3           NaN   \n",
       "4        17.0       2017   0.072158    ...             1           NaN   \n",
       "\n",
       "   Helthcare_2  Shops_1  Ecology_2_A  Ecology_2_B  Ecology_3_A  Ecology_3_B  \\\n",
       "0            0        0            0            1            0            1   \n",
       "1            0        2            0            1            0            1   \n",
       "2            5        5            0            1            0            1   \n",
       "3            3        3            0            1            0            1   \n",
       "4            0        0            0            1            0            1   \n",
       "\n",
       "   Shops_2_A  Shops_2_B  \n",
       "0          0          1  \n",
       "1          0          1  \n",
       "2          0          1  \n",
       "3          0          1  \n",
       "4          1          0  \n",
       "\n",
       "[5 rows x 22 columns]"
      ]
     },
     "execution_count": 55,
     "metadata": {},
     "output_type": "execute_result"
    }
   ],
   "source": [
    "correct_test = pd.read_csv('correct_test.csv')\n",
    "correct_test.head()"
   ]
  },
  {
   "cell_type": "code",
   "execution_count": 56,
   "metadata": {},
   "outputs": [
    {
     "name": "stdout",
     "output_type": "stream",
     "text": [
      "<class 'pandas.core.frame.DataFrame'>\n",
      "RangeIndex: 5000 entries, 0 to 4999\n",
      "Data columns (total 22 columns):\n",
      "Id               5000 non-null int64\n",
      "DistrictId       5000 non-null int64\n",
      "Rooms            5000 non-null float64\n",
      "Square           5000 non-null float64\n",
      "LifeSquare       5000 non-null float64\n",
      "KitchenSquare    5000 non-null float64\n",
      "Floor            5000 non-null float64\n",
      "HouseFloor       5000 non-null float64\n",
      "HouseYear        5000 non-null int64\n",
      "Ecology_1        5000 non-null float64\n",
      "Social_1         5000 non-null int64\n",
      "Social_2         5000 non-null int64\n",
      "Social_3         5000 non-null int64\n",
      "Healthcare_1     2623 non-null float64\n",
      "Helthcare_2      5000 non-null int64\n",
      "Shops_1          5000 non-null int64\n",
      "Ecology_2_A      5000 non-null int64\n",
      "Ecology_2_B      5000 non-null int64\n",
      "Ecology_3_A      5000 non-null int64\n",
      "Ecology_3_B      5000 non-null int64\n",
      "Shops_2_A        5000 non-null int64\n",
      "Shops_2_B        5000 non-null int64\n",
      "dtypes: float64(8), int64(14)\n",
      "memory usage: 859.5 KB\n"
     ]
    }
   ],
   "source": [
    "correct_test.info()"
   ]
  },
  {
   "cell_type": "markdown",
   "metadata": {},
   "source": [
    "Предсказание на тестовых данных делаем на основании модели из второго варианта"
   ]
  },
  {
   "cell_type": "code",
   "execution_count": 60,
   "metadata": {},
   "outputs": [],
   "source": [
    "fts = ['Square', 'Rooms', 'LifeSquare','HouseYear', 'Ecology_1', 'Social_1', 'Social_2',\n",
    "       'Social_3', 'Helthcare_2', 'Shops_1', 'KitchenSquare' ]\n",
    "pred_result = recommended_model.predict(correct_test.loc[:, fts])\n",
    "correct_test['Price'] = pred_result"
   ]
  },
  {
   "cell_type": "code",
   "execution_count": 61,
   "metadata": {},
   "outputs": [
    {
     "data": {
      "text/html": [
       "<div>\n",
       "<style scoped>\n",
       "    .dataframe tbody tr th:only-of-type {\n",
       "        vertical-align: middle;\n",
       "    }\n",
       "\n",
       "    .dataframe tbody tr th {\n",
       "        vertical-align: top;\n",
       "    }\n",
       "\n",
       "    .dataframe thead th {\n",
       "        text-align: right;\n",
       "    }\n",
       "</style>\n",
       "<table border=\"1\" class=\"dataframe\">\n",
       "  <thead>\n",
       "    <tr style=\"text-align: right;\">\n",
       "      <th></th>\n",
       "      <th>Id</th>\n",
       "      <th>DistrictId</th>\n",
       "      <th>Rooms</th>\n",
       "      <th>Square</th>\n",
       "      <th>LifeSquare</th>\n",
       "      <th>KitchenSquare</th>\n",
       "      <th>Floor</th>\n",
       "      <th>HouseFloor</th>\n",
       "      <th>HouseYear</th>\n",
       "      <th>Ecology_1</th>\n",
       "      <th>...</th>\n",
       "      <th>Healthcare_1</th>\n",
       "      <th>Helthcare_2</th>\n",
       "      <th>Shops_1</th>\n",
       "      <th>Ecology_2_A</th>\n",
       "      <th>Ecology_2_B</th>\n",
       "      <th>Ecology_3_A</th>\n",
       "      <th>Ecology_3_B</th>\n",
       "      <th>Shops_2_A</th>\n",
       "      <th>Shops_2_B</th>\n",
       "      <th>Price</th>\n",
       "    </tr>\n",
       "  </thead>\n",
       "  <tbody>\n",
       "    <tr>\n",
       "      <th>0</th>\n",
       "      <td>725</td>\n",
       "      <td>58</td>\n",
       "      <td>2.0</td>\n",
       "      <td>49.882643</td>\n",
       "      <td>33.432782</td>\n",
       "      <td>6.0</td>\n",
       "      <td>6.0</td>\n",
       "      <td>14.0</td>\n",
       "      <td>1972</td>\n",
       "      <td>0.310199</td>\n",
       "      <td>...</td>\n",
       "      <td>NaN</td>\n",
       "      <td>0</td>\n",
       "      <td>0</td>\n",
       "      <td>0</td>\n",
       "      <td>1</td>\n",
       "      <td>0</td>\n",
       "      <td>1</td>\n",
       "      <td>0</td>\n",
       "      <td>1</td>\n",
       "      <td>155151.689997</td>\n",
       "    </tr>\n",
       "    <tr>\n",
       "      <th>1</th>\n",
       "      <td>15856</td>\n",
       "      <td>74</td>\n",
       "      <td>2.0</td>\n",
       "      <td>69.263183</td>\n",
       "      <td>69.263183</td>\n",
       "      <td>1.0</td>\n",
       "      <td>1.0</td>\n",
       "      <td>1.0</td>\n",
       "      <td>1977</td>\n",
       "      <td>0.075779</td>\n",
       "      <td>...</td>\n",
       "      <td>NaN</td>\n",
       "      <td>0</td>\n",
       "      <td>2</td>\n",
       "      <td>0</td>\n",
       "      <td>1</td>\n",
       "      <td>0</td>\n",
       "      <td>1</td>\n",
       "      <td>0</td>\n",
       "      <td>1</td>\n",
       "      <td>211692.416536</td>\n",
       "    </tr>\n",
       "    <tr>\n",
       "      <th>2</th>\n",
       "      <td>5480</td>\n",
       "      <td>190</td>\n",
       "      <td>1.0</td>\n",
       "      <td>15.948246</td>\n",
       "      <td>15.948246</td>\n",
       "      <td>12.0</td>\n",
       "      <td>2.0</td>\n",
       "      <td>5.0</td>\n",
       "      <td>1909</td>\n",
       "      <td>0.000000</td>\n",
       "      <td>...</td>\n",
       "      <td>4702.0</td>\n",
       "      <td>5</td>\n",
       "      <td>5</td>\n",
       "      <td>0</td>\n",
       "      <td>1</td>\n",
       "      <td>0</td>\n",
       "      <td>1</td>\n",
       "      <td>0</td>\n",
       "      <td>1</td>\n",
       "      <td>229748.846768</td>\n",
       "    </tr>\n",
       "    <tr>\n",
       "      <th>3</th>\n",
       "      <td>15664</td>\n",
       "      <td>47</td>\n",
       "      <td>2.0</td>\n",
       "      <td>73.046609</td>\n",
       "      <td>51.940842</td>\n",
       "      <td>9.0</td>\n",
       "      <td>22.0</td>\n",
       "      <td>22.0</td>\n",
       "      <td>2007</td>\n",
       "      <td>0.101872</td>\n",
       "      <td>...</td>\n",
       "      <td>NaN</td>\n",
       "      <td>3</td>\n",
       "      <td>3</td>\n",
       "      <td>0</td>\n",
       "      <td>1</td>\n",
       "      <td>0</td>\n",
       "      <td>1</td>\n",
       "      <td>0</td>\n",
       "      <td>1</td>\n",
       "      <td>318854.405681</td>\n",
       "    </tr>\n",
       "    <tr>\n",
       "      <th>4</th>\n",
       "      <td>14275</td>\n",
       "      <td>27</td>\n",
       "      <td>1.0</td>\n",
       "      <td>47.527111</td>\n",
       "      <td>43.387569</td>\n",
       "      <td>1.0</td>\n",
       "      <td>17.0</td>\n",
       "      <td>17.0</td>\n",
       "      <td>2017</td>\n",
       "      <td>0.072158</td>\n",
       "      <td>...</td>\n",
       "      <td>NaN</td>\n",
       "      <td>0</td>\n",
       "      <td>0</td>\n",
       "      <td>0</td>\n",
       "      <td>1</td>\n",
       "      <td>0</td>\n",
       "      <td>1</td>\n",
       "      <td>1</td>\n",
       "      <td>0</td>\n",
       "      <td>130638.356060</td>\n",
       "    </tr>\n",
       "  </tbody>\n",
       "</table>\n",
       "<p>5 rows × 23 columns</p>\n",
       "</div>"
      ],
      "text/plain": [
       "      Id  DistrictId  Rooms     Square  LifeSquare  KitchenSquare  Floor  \\\n",
       "0    725          58    2.0  49.882643   33.432782            6.0    6.0   \n",
       "1  15856          74    2.0  69.263183   69.263183            1.0    1.0   \n",
       "2   5480         190    1.0  15.948246   15.948246           12.0    2.0   \n",
       "3  15664          47    2.0  73.046609   51.940842            9.0   22.0   \n",
       "4  14275          27    1.0  47.527111   43.387569            1.0   17.0   \n",
       "\n",
       "   HouseFloor  HouseYear  Ecology_1      ...        Healthcare_1  Helthcare_2  \\\n",
       "0        14.0       1972   0.310199      ...                 NaN            0   \n",
       "1         1.0       1977   0.075779      ...                 NaN            0   \n",
       "2         5.0       1909   0.000000      ...              4702.0            5   \n",
       "3        22.0       2007   0.101872      ...                 NaN            3   \n",
       "4        17.0       2017   0.072158      ...                 NaN            0   \n",
       "\n",
       "   Shops_1  Ecology_2_A  Ecology_2_B  Ecology_3_A  Ecology_3_B  Shops_2_A  \\\n",
       "0        0            0            1            0            1          0   \n",
       "1        2            0            1            0            1          0   \n",
       "2        5            0            1            0            1          0   \n",
       "3        3            0            1            0            1          0   \n",
       "4        0            0            1            0            1          1   \n",
       "\n",
       "   Shops_2_B          Price  \n",
       "0          1  155151.689997  \n",
       "1          1  211692.416536  \n",
       "2          1  229748.846768  \n",
       "3          1  318854.405681  \n",
       "4          0  130638.356060  \n",
       "\n",
       "[5 rows x 23 columns]"
      ]
     },
     "execution_count": 61,
     "metadata": {},
     "output_type": "execute_result"
    }
   ],
   "source": [
    "correct_test.head()"
   ]
  },
  {
   "cell_type": "code",
   "execution_count": 62,
   "metadata": {},
   "outputs": [],
   "source": [
    "correct_test.loc[:, ['Id', 'Price']].to_csv('my_predictions.csv', index=None)"
   ]
  },
  {
   "cell_type": "markdown",
   "metadata": {},
   "source": [
    "В файл не включены варианты разработки, которые не дали улучшения качества модели"
   ]
  },
  {
   "cell_type": "code",
   "execution_count": null,
   "metadata": {},
   "outputs": [],
   "source": []
  }
 ],
 "metadata": {
  "kernelspec": {
   "display_name": "Python 3",
   "language": "python",
   "name": "python3"
  },
  "language_info": {
   "codemirror_mode": {
    "name": "ipython",
    "version": 3
   },
   "file_extension": ".py",
   "mimetype": "text/x-python",
   "name": "python",
   "nbconvert_exporter": "python",
   "pygments_lexer": "ipython3",
   "version": "3.7.1"
  }
 },
 "nbformat": 4,
 "nbformat_minor": 2
}
